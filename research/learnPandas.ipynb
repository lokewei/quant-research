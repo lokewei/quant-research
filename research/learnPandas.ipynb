{
 "cells": [
  {
   "cell_type": "code",
   "execution_count": 5,
   "metadata": {},
   "outputs": [
    {
     "name": "stdout",
     "output_type": "stream",
     "text": [
      "   A     B   C\n",
      "a  x  1000  10\n",
      "b  y  2000  20\n",
      "c  z  3000  30\n"
     ]
    }
   ],
   "source": [
    "import pandas as pd\n",
    "\n",
    "data={'A':['x','y','z'],'B':[1000,2000,3000],'C':[10,20,30]}\n",
    "df=pd.DataFrame(data,index=['a','b','c'])\n",
    "\n",
    "print(df)"
   ]
  }
 ],
 "metadata": {
  "interpreter": {
   "hash": "5b6af805fcacfa395983e028c0d864bf40541ec256a4d18cb81c3b3669f909dc"
  },
  "kernelspec": {
   "display_name": "Python 3.10.0 64-bit ('vnpy3.0')",
   "language": "python",
   "name": "python3"
  },
  "language_info": {
   "codemirror_mode": {
    "name": "ipython",
    "version": 3
   },
   "file_extension": ".py",
   "mimetype": "text/x-python",
   "name": "python",
   "nbconvert_exporter": "python",
   "pygments_lexer": "ipython3",
   "version": "3.10.0"
  },
  "orig_nbformat": 4
 },
 "nbformat": 4,
 "nbformat_minor": 2
}
